{
 "cells": [
  {
   "cell_type": "markdown",
   "metadata": {
    "deletable": false,
    "editable": false,
    "run_control": {
     "frozen": true
    }
   },
   "source": [
    "<a id='top_cell'></a>"
   ]
  },
  {
   "cell_type": "markdown",
   "metadata": {},
   "source": [
    "# Basic Python - Anaconda\n",
    "<div style=\"text-align: right\"> [Back to Start](0 Start.ipynb) </div>"
   ]
  },
  {
   "cell_type": "markdown",
   "metadata": {},
   "source": [
    "All information on the Anaconda distribution can be found on the [Anaconda Distribution](https://docs.anaconda.com/anaconda/) website. Please consult this website if you need to install Anaconda yourself, we will only cover the basics in this notebook.\n",
    "\n",
    "On our [redmine](https://redmine.ster.kuleuven.be) website, there is a page that describes the [Anaconda at IvS](https://redmine.ster.kuleuven.be/projects/system/wiki/Anaconda). Anaconda is installed by default on all the computers at IvS."
   ]
  },
  {
   "cell_type": "markdown",
   "metadata": {},
   "source": [
    "## Installing Anaconda"
   ]
  },
  {
   "cell_type": "markdown",
   "metadata": {},
   "source": [
    "Install the distribution preferably in your home directory. There are good instructions for all macOS, Linux and Windows available from the official Anaconda distribution website.\n"
   ]
  },
  {
   "cell_type": "markdown",
   "metadata": {},
   "source": [
    "## Setup Anaconda"
   ]
  },
  {
   "cell_type": "markdown",
   "metadata": {},
   "source": [
    "On Linux the IvS system is setup with [``module``](https://lmod.readthedocs.io/en/latest/) which is a standard and easy way to organize your setups and bash environment. Execute ``module`` from the unix command prompt to get an overview of the available commands. To get a list of active modules use:"
   ]
  },
  {
   "cell_type": "markdown",
   "metadata": {},
   "source": [
    "```\n",
    "$ module list\n",
    "```"
   ]
  },
  {
   "cell_type": "markdown",
   "metadata": {},
   "source": [
    "The get a list of available modules on your system, use:"
   ]
  },
  {
   "cell_type": "markdown",
   "metadata": {},
   "source": [
    "```\n",
    "$ module avail\n",
    "----------------------------- /Users/rik/modules -------------------------\n",
    "   anaconda (L)    cmake    common-egse    doxygen    eclipse    pis    platosim\n",
    "\n",
    "  Where:\n",
    "   L:  Module is loaded\n",
    "```"
   ]
  },
  {
   "cell_type": "markdown",
   "metadata": {},
   "source": [
    "As you see above, the anaconda module has been loaded (L) and there are a number of other modules available. If you write modules yourself, put them in a folder in your home directory and point the ``MODULEPATH`` environment variable to it."
   ]
  },
  {
   "cell_type": "markdown",
   "metadata": {},
   "source": [
    "```\n",
    "$ echo $MODULEPATH\n",
    "/Users/rik/modules\n",
    "$ module load common-egse\n",
    "$ module list\n",
    "Currently Loaded Modules:\n",
    "  1) anaconda   2) common-egse\n",
    "```"
   ]
  },
  {
   "cell_type": "markdown",
   "metadata": {},
   "source": [
    "You can inspect the module file and check which commands are executed to setup your environment."
   ]
  },
  {
   "cell_type": "markdown",
   "metadata": {},
   "source": [
    "```\n",
    "$ module show common-egse\n",
    "-------------------------------------------------------------------------------------------------------\n",
    "   /Users/rik/modules/common-egse.lua:\n",
    "-------------------------------------------------------------------------------------------------------\n",
    "whatis(\"Configuration for the Camera-EGSE Project\")\n",
    "setenv(\"EGSE_PROJECT_HOME\",\"/Users/rik/Git/Camera-EGSE\")\n",
    "execute{cmd=\"conda activate EGSE\", modeA={\"load\"}}\n",
    "execute{cmd=\"conda deactivate\", modeA={\"unload\"}}\n",
    "setenv(\"PYTHONPATH\",\"/Users/rik/Git/Camera-EGSE/src\")\n",
    "set_alias(\"cd2p\",\"cd $EGSE_PROJECT_HOME\")\n",
    "whatis(\"Use 'module help common-egse' to get more help about setting up the Common EGSE environment.\")\n",
    "```"
   ]
  },
  {
   "cell_type": "markdown",
   "metadata": {},
   "source": [
    "When you execute a ``module avail`` command on one of the pleiades you will find more modules available and also different versions of applications that can be loaded with modules. Use these modules to setup your Terminal for the correct version of the application you are using."
   ]
  },
  {
   "cell_type": "markdown",
   "metadata": {},
   "source": [
    "```\n",
    "[pleiad01]:~>module avail\n",
    "\n",
    "------------------------------------ /home/setup/modules ----------------------------------------------------\n",
    "   FPOSS/P99             dhas/8.3.0            gildas/apr15b        mesa/r10398      (D)    shape/5.0\n",
    "   anaconda/4.2.0        dhas/9.2.4            gildas/jan14e (D)    mesasdk/20160129        sm/sm2_4_38\n",
    "   anaconda/4.3.1        dhas/9.4.2            heasoft/6.18         mesasdk/20170921        trm_soft/20151210\n",
    "   anaconda/4.4.0        dhas/9.4.4     (D)    heasoft/6.22  (D)    mesasdk/20180127        visit/2.12.0\n",
    "   anaconda/5.3.0 (D)    ds9/7.4               hipe/13.0            mesasdk/20180822 (D)    wcstools/3.9.5\n",
    "   casa/4.5.0            esa_sas/16.1.0        hipe/14.2.1          midas/17FEBpl1.2\n",
    "   casa/5.1.2     (D)    eso/20180307          hipe/15.0     (D)    period04/1.2.0\n",
    "   dhas/7.0.1            eso/20180614   (D)    mesa/r8118           reflex/2.8\n",
    "\n",
    "----------------------------------- /usr/share/modulefiles --------------------------------------------------\n",
    "   StdEnv (L)    ivs (L)    mpi/openmpi-x86_64\n",
    "\n",
    "--------------------------- /usr/share/lmod/lmod/modulefiles/Core -------------------------------------------\n",
    "   lmod/7.5.16    settarg/7.5.16\n",
    "\n",
    "  Where:\n",
    "   L:  Module is loaded\n",
    "   D:  Default Module\n",
    "\n",
    "Use \"module spider\" to find all possible modules.\n",
    "Use \"module keyword key1 key2 ...\" to search for all possible modules matching any of the \"keys\".\n",
    "\n",
    "```\n"
   ]
  },
  {
   "cell_type": "markdown",
   "metadata": {
    "collapsed": true
   },
   "source": [
    "<div style=\"text-align: right\"> [Next: Environments](Basic Python - Environments.ipynb) </div>"
   ]
  },
  {
   "cell_type": "markdown",
   "metadata": {
    "collapsed": true,
    "deletable": false,
    "editable": false,
    "run_control": {
     "frozen": true
    }
   },
   "source": [
    "<div style=\"text-align: right\"><button>[⇧ Go to top ⇧](#top_cell)</button></div>"
   ]
  }
 ],
 "metadata": {
  "kernelspec": {
   "display_name": "Python 3",
   "language": "python",
   "name": "python3"
  },
  "language_info": {
   "codemirror_mode": {
    "name": "ipython",
    "version": 3
   },
   "file_extension": ".py",
   "mimetype": "text/x-python",
   "name": "python",
   "nbconvert_exporter": "python",
   "pygments_lexer": "ipython3",
   "version": "3.6.1"
  },
  "varInspector": {
   "cols": {
    "lenName": 16,
    "lenType": 16,
    "lenVar": 40
   },
   "kernels_config": {
    "python": {
     "delete_cmd_postfix": "",
     "delete_cmd_prefix": "del ",
     "library": "var_list.py",
     "varRefreshCmd": "print(var_dic_list())"
    },
    "r": {
     "delete_cmd_postfix": ") ",
     "delete_cmd_prefix": "rm(",
     "library": "var_list.r",
     "varRefreshCmd": "cat(var_dic_list()) "
    }
   },
   "types_to_exclude": [
    "module",
    "function",
    "builtin_function_or_method",
    "instance",
    "_Feature"
   ],
   "window_display": false
  }
 },
 "nbformat": 4,
 "nbformat_minor": 2
}
