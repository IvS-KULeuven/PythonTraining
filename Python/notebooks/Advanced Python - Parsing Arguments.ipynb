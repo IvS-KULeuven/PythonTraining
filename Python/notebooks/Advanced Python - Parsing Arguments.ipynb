{
 "cells": [
  {
   "cell_type": "markdown",
   "metadata": {
    "deletable": false,
    "editable": false,
    "hide_input": false,
    "run_control": {
     "frozen": true
    }
   },
   "source": [
    "<a id='top_cell'></a>"
   ]
  },
  {
   "cell_type": "markdown",
   "metadata": {},
   "source": [
    "# Advanced Python - Parsing Commandline Arguments\n",
    "<div style=\"text-align: right\"> [Back to Start](0 Start.ipynb) </div>"
   ]
  },
  {
   "cell_type": "markdown",
   "metadata": {},
   "source": [
    "Instead of trying to understand and process the commandline options with ``if .. else: ..`` statements, use the standard ``argparse`` Python module with all its benefits. There is also a C-style (``getopt``) parsers for command line options, but we recommend ``argparse``."
   ]
  },
  {
   "cell_type": "markdown",
   "metadata": {
    "collapsed": true
   },
   "source": [
    "Official documentation: [Parser for command-line options, arguments and sub-commands](https://docs.python.org/3/library/argparse.html)\n",
    "\n",
    "A tutorial from PyMOTW-3: [Commandline Option and argument parsing](https://pymotw.com/3/argparse/)"
   ]
  },
  {
   "cell_type": "markdown",
   "metadata": {},
   "source": [
    "## Steps to take in setting up commadline arguments"
   ]
  },
  {
   "cell_type": "markdown",
   "metadata": {},
   "source": [
    "1. Setting up a parser for your commandline\n",
    "2. Define the mandatory and optional arguments\n",
    "3. Parse the commandline\n",
    "4. Use the parsed argument values"
   ]
  },
  {
   "cell_type": "code",
   "execution_count": null,
   "metadata": {
    "collapsed": true
   },
   "outputs": [],
   "source": [
    "from importlib import reload\n",
    "import logging"
   ]
  },
  {
   "cell_type": "markdown",
   "metadata": {},
   "source": [
    "### Setting up a parser"
   ]
  },
  {
   "cell_type": "markdown",
   "metadata": {},
   "source": [
    "Arguments from the commandline are passed into the variable ``sys.argv``."
   ]
  },
  {
   "cell_type": "code",
   "execution_count": null,
   "metadata": {},
   "outputs": [],
   "source": [
    "%pwd"
   ]
  },
  {
   "cell_type": "code",
   "execution_count": null,
   "metadata": {
    "collapsed": true
   },
   "outputs": [],
   "source": [
    "%%script bash\n",
    "cat > ../scripts/argparse_example.py\n",
    "import sys\n",
    "\n",
    "print(sys.argv)"
   ]
  },
  {
   "cell_type": "code",
   "execution_count": null,
   "metadata": {},
   "outputs": [],
   "source": [
    "%run ../scripts/argparse_example.py"
   ]
  },
  {
   "cell_type": "code",
   "execution_count": null,
   "metadata": {},
   "outputs": [],
   "source": [
    "%run ../scripts/argparse_example.py input.yaml"
   ]
  },
  {
   "cell_type": "code",
   "execution_count": null,
   "metadata": {},
   "outputs": [],
   "source": [
    "%run ../scripts/argparse_example.py -X --config input.yaml --log out.log --logging-level=INFO"
   ]
  },
  {
   "cell_type": "code",
   "execution_count": null,
   "metadata": {
    "collapsed": true
   },
   "outputs": [],
   "source": [
    "%%script bash\n",
    "cat > ../scripts/argparse_example.py\n",
    "import argparse\n",
    "parser = argparse.ArgumentParser()\n",
    "parser.parse_args()"
   ]
  },
  {
   "cell_type": "code",
   "execution_count": null,
   "metadata": {
    "scrolled": true
   },
   "outputs": [],
   "source": [
    "%run ../scripts/argparse_example.py -X --config input.yaml --log out.log --logging-level=INFO"
   ]
  },
  {
   "cell_type": "code",
   "execution_count": null,
   "metadata": {
    "collapsed": true
   },
   "outputs": [],
   "source": [
    "%%script bash\n",
    "cat > ../scripts/argparse_example.py\n",
    "import argparse\n",
    "parser = argparse.ArgumentParser(description=\"An example for parsing commandline arguments\")\n",
    "parser.parse_args()"
   ]
  },
  {
   "cell_type": "code",
   "execution_count": null,
   "metadata": {},
   "outputs": [],
   "source": [
    "%run ../scripts/argparse_example.py -h"
   ]
  },
  {
   "cell_type": "markdown",
   "metadata": {},
   "source": [
    "### Defining the arguments"
   ]
  },
  {
   "cell_type": "markdown",
   "metadata": {},
   "source": [
    "When defining arguments, optional arguments start with a hyphen ``'-'`` while positional arguments can be just a name like ``'foo'``."
   ]
  },
  {
   "cell_type": "code",
   "execution_count": null,
   "metadata": {
    "collapsed": true
   },
   "outputs": [],
   "source": [
    "%%script bash\n",
    "cat > ../scripts/argparse_example.py\n",
    "import argparse\n",
    "parser = argparse.ArgumentParser(description=\"An example for parsing commandline arguments\")\n",
    "\n",
    "parser.add_argument('-X', action='store_true')\n",
    "parser.add_argument('foo')\n",
    "parser.parse_args()\n"
   ]
  },
  {
   "cell_type": "code",
   "execution_count": null,
   "metadata": {
    "collapsed": true
   },
   "outputs": [],
   "source": [
    "%run ../scripts/argparse_example.py -X a_filename.txt"
   ]
  },
  {
   "cell_type": "code",
   "execution_count": null,
   "metadata": {},
   "outputs": [],
   "source": [
    "%run ../scripts/argparse_example.py -h"
   ]
  },
  {
   "cell_type": "code",
   "execution_count": null,
   "metadata": {
    "collapsed": true
   },
   "outputs": [],
   "source": [
    "%%script bash\n",
    "cat > ../scripts/argparse_example.py\n",
    "import argparse\n",
    "parser = argparse.ArgumentParser(description=\"An example for parsing commandline arguments\")\n",
    "\n",
    "parser.add_argument('-X', action='store_true', help=\"use the extended version\")\n",
    "parser.add_argument('foo', help='enter what the foo this is')\n",
    "parser.parse_args()"
   ]
  },
  {
   "cell_type": "code",
   "execution_count": null,
   "metadata": {},
   "outputs": [],
   "source": [
    "%run ../scripts/argparse_example.py -h"
   ]
  },
  {
   "cell_type": "markdown",
   "metadata": {
    "deletable": false,
    "editable": false,
    "run_control": {
     "frozen": true
    }
   },
   "source": [
    "---"
   ]
  },
  {
   "cell_type": "markdown",
   "metadata": {},
   "source": [
    "**Add a single optional argument**"
   ]
  },
  {
   "cell_type": "code",
   "execution_count": null,
   "metadata": {
    "collapsed": true
   },
   "outputs": [],
   "source": [
    "%%script bash\n",
    "cat > ../scripts/argparse_example.py\n",
    "import argparse\n",
    "parser = argparse.ArgumentParser(description=\"An example for parsing commandline arguments\")\n",
    "\n",
    "parser.add_argument('-X', '--eXtended', action='store_true', help=\"use the extended version\")\n",
    "args = parser.parse_args()\n",
    "\n",
    "print (f\"args = {args}\")\n",
    "print (f\"args.eXtended = {args.eXtended}\")\n"
   ]
  },
  {
   "cell_type": "code",
   "execution_count": null,
   "metadata": {},
   "outputs": [],
   "source": [
    "%run ../scripts/argparse_example.py -X"
   ]
  },
  {
   "cell_type": "markdown",
   "metadata": {
    "deletable": false,
    "editable": false,
    "run_control": {
     "frozen": true
    }
   },
   "source": [
    "---"
   ]
  },
  {
   "cell_type": "markdown",
   "metadata": {},
   "source": [
    "**Add a single positional argument**"
   ]
  },
  {
   "cell_type": "markdown",
   "metadata": {},
   "source": [
    "Let's add the other arguments one by one. First add a positional argument <filename>. The commandline will look something like this:\n",
    "```\n",
    "argparse_example.py [-X] my_file.txt\n",
    "```\n",
    "The positional argument is not optional."
   ]
  },
  {
   "cell_type": "code",
   "execution_count": null,
   "metadata": {
    "collapsed": true
   },
   "outputs": [],
   "source": [
    "%%script bash\n",
    "cat > ../scripts/argparse_example.py\n",
    "import argparse\n",
    "parser = argparse.ArgumentParser(description=\"An example for parsing commandline arguments\")\n",
    "\n",
    "parser.add_argument('-X', '--eXtended', action='store_true', help=\"use the extended version\")\n",
    "parser.add_argument(dest='filename', action='store')\n",
    "args = parser.parse_args()\n",
    "\n",
    "print (f\"args = {args}\")\n",
    "print (f\"args.eXtended = {args.eXtended}\")\n",
    "\n",
    "print (f\"args.filename = {args.filename}\")\n"
   ]
  },
  {
   "cell_type": "code",
   "execution_count": null,
   "metadata": {},
   "outputs": [],
   "source": [
    "%run ../scripts/argparse_example.py a_filename.txt"
   ]
  },
  {
   "cell_type": "markdown",
   "metadata": {},
   "source": [
    "The ``dest`` argument to ``add_argument()`` specifies the name of the attribute where the result will be saved. The ``action='store'`` argument specifies the processing to be done and 'store' is the default. We can have more positional arguments and that is defined by the ``nargs=`` argument. In the following example there can be any number of filenames given."
   ]
  },
  {
   "cell_type": "code",
   "execution_count": null,
   "metadata": {
    "collapsed": true
   },
   "outputs": [],
   "source": [
    "%%script bash\n",
    "cat > ../scripts/argparse_example.py\n",
    "import argparse\n",
    "parser = argparse.ArgumentParser(description=\"An example for parsing commandline arguments\")\n",
    "\n",
    "parser.add_argument('-X', '--eXtended', action='store_true', help=\"use the extended version\")\n",
    "parser.add_argument(dest='filenames', metavar=\"filename\", nargs='*')  # nargs can be '?' or a number\n",
    "args = parser.parse_args()\n",
    "\n",
    "print (f\"args = {args}\")\n",
    "print (f\"args.eXtended = {args.eXtended}\")\n",
    "\n",
    "print (f\"args.filenames = {args.filenames}\")\n"
   ]
  },
  {
   "cell_type": "code",
   "execution_count": null,
   "metadata": {},
   "outputs": [],
   "source": [
    "%run ../scripts/argparse_example.py -h"
   ]
  },
  {
   "cell_type": "code",
   "execution_count": null,
   "metadata": {},
   "outputs": [],
   "source": [
    "%run ../scripts/argparse_example.py a_filename.txt"
   ]
  },
  {
   "cell_type": "markdown",
   "metadata": {
    "deletable": false,
    "editable": false,
    "run_control": {
     "frozen": true
    }
   },
   "source": [
    "---"
   ]
  },
  {
   "cell_type": "markdown",
   "metadata": {},
   "source": [
    "**Add an optional argument that takes a parameter**"
   ]
  },
  {
   "cell_type": "markdown",
   "metadata": {},
   "source": [
    "Optional arguments can have a short and a long form as seen above with ``-X`` and ``--eXtended``. The options both need to be specified in the ``add_argument()`` method. When an option takes an argument, use ``action='store'`` instead of ``'store_true'``.\n",
    "\n",
    "The difference between an option without and with an argument is in the ``action=`` argument of the ``add_argument()`` method. As shown below the argument can be separated from the option with a space or with the ``'='`` sign.\n",
    "\n",
    "```\n",
    "argparse_exaple.py [-X] [--log logfile.log] my_file.txt\n",
    "```"
   ]
  },
  {
   "cell_type": "code",
   "execution_count": null,
   "metadata": {
    "collapsed": true
   },
   "outputs": [],
   "source": [
    "%%script bash\n",
    "cat > ../scripts/argparse_example.py\n",
    "import argparse\n",
    "parser = argparse.ArgumentParser(description=\"An example for parsing commandline arguments\")\n",
    "\n",
    "parser.add_argument('-X', '--eXtended', action='store_true', help=\"use the extended version\")\n",
    "parser.add_argument('--log', action='store', help=\"send logging messages to the specified file\")\n",
    "parser.add_argument(dest='filenames', metavar=\"filename\", nargs='*')\n",
    "args = parser.parse_args()\n",
    "\n",
    "print (f\"args = {args}\")\n",
    "print (f\"args.eXtended = {args.eXtended}\")\n",
    "print (f\"args.log = {args.log}\")\n",
    "print (f\"args.filenames = {args.filenames}\")\n"
   ]
  },
  {
   "cell_type": "code",
   "execution_count": null,
   "metadata": {},
   "outputs": [],
   "source": [
    "%run ../scripts/argparse_example.py -h"
   ]
  },
  {
   "cell_type": "code",
   "execution_count": null,
   "metadata": {},
   "outputs": [],
   "source": [
    "%run ../scripts/argparse_example.py --log logfile.log a_filename.txt"
   ]
  },
  {
   "cell_type": "code",
   "execution_count": null,
   "metadata": {},
   "outputs": [],
   "source": [
    "%run ../scripts/argparse_example.py --log=logfile.log a_filename.txt"
   ]
  },
  {
   "cell_type": "code",
   "execution_count": null,
   "metadata": {},
   "outputs": [],
   "source": [
    "%run ../scripts/argparse_example.py -X a_filename.txt"
   ]
  },
  {
   "cell_type": "markdown",
   "metadata": {},
   "source": [
    "In the above example the ``--log`` option was not given and the ``args.log`` variable will be ``None`` in your Python script. To test for this option do for instance\n",
    "\n",
    "```\n",
    "if args.log:\n",
    "    logging.basicConfig(filename=args.log, filemode='w')\n",
    "```"
   ]
  },
  {
   "cell_type": "markdown",
   "metadata": {},
   "source": [
    "---"
   ]
  },
  {
   "cell_type": "markdown",
   "metadata": {},
   "source": [
    "**Special cases**"
   ]
  },
  {
   "cell_type": "markdown",
   "metadata": {},
   "source": [
    "The last example shows how to have options with parameters of a specific type and parameters that can only have a limited set of values, i.e. choices. We add a logging level as an option with choices and a ``'max'`` option which takes an integer.\n",
    "\n",
    "The commandline usage:\n",
    "\n",
    "```\n",
    "argparse_example.py [-X] [--log <logfile>] [--level <level>] [--max <number>] a_filename.txt\n",
    "```"
   ]
  },
  {
   "cell_type": "code",
   "execution_count": null,
   "metadata": {
    "collapsed": true
   },
   "outputs": [],
   "source": [
    "%%script bash\n",
    "cat > ../scripts/argparse_example.py\n",
    "import argparse\n",
    "import logging\n",
    "\n",
    "parser = argparse.ArgumentParser(description=\"An example for parsing commandline arguments\")\n",
    "\n",
    "parser.add_argument('-X', '--eXtended', action='store_true', help=\"use the extended version\")\n",
    "parser.add_argument('--log', action='store', \n",
    "                    metavar='logfile',\n",
    "                    help=\"send logging messages to the specified file\")\n",
    "parser.add_argument('--level', \n",
    "                    choices=('DEBUG', 'INFO', 'WARNING', 'ERROR'),\n",
    "                    help='set the logging level')\n",
    "parser.add_argument('--max', type=int, help='give the maximum number of ....')\n",
    "parser.add_argument(dest='filenames', metavar=\"filename\", nargs='*')\n",
    "\n",
    "args = parser.parse_args()\n",
    "\n",
    "print (f\"args = {args}\")\n",
    "print (f\"args.eXtended = {args.eXtended}\")\n",
    "print (f\"args.log = {args.log}\")\n",
    "print (f\"args.level = {args.level}\")\n",
    "print (f\"args.max = {args.max} (type={type(args.max)})\")\n",
    "print (f\"args.filenames = {args.filenames}\")\n",
    "\n",
    "log_level = args.level or 'INFO'\n",
    "\n",
    "if args.log:\n",
    "    logging.basicConfig(filename=args.log, filemode='w', level=log_level)\n",
    "else:\n",
    "    logging.basicConfig(level=log_level)\n",
    "\n",
    "logging.debug('This is a debug logging message')\n",
    "logging.info('This is a info logging message')\n",
    "logging.warning('This is a warning logging message')\n",
    "logging.error('This is a error logging message')\n",
    "logging.info(f\"The maximum number of ... is {args.max})\")"
   ]
  },
  {
   "cell_type": "code",
   "execution_count": null,
   "metadata": {},
   "outputs": [],
   "source": [
    "%run ../scripts/argparse_example.py -h"
   ]
  },
  {
   "cell_type": "code",
   "execution_count": null,
   "metadata": {},
   "outputs": [],
   "source": [
    "reload(logging)"
   ]
  },
  {
   "cell_type": "code",
   "execution_count": null,
   "metadata": {},
   "outputs": [],
   "source": [
    "%run ../scripts/argparse_example.py --log out.log --level=DEBUG a_filename.txt --max 23"
   ]
  },
  {
   "cell_type": "markdown",
   "metadata": {},
   "source": [
    "### Summary"
   ]
  },
  {
   "cell_type": "markdown",
   "metadata": {},
   "source": [
    "The ``argparse`` module provides an easy way to process command line arguments. We have seen the following examples:\n",
    "\n",
    "* single optional arguments, e.g. ``-X`` or ``--eXtended``, use ``action='store_true'`` or ``action='store_false'``\n",
    "* optional arguments with parameters, e.g. ``-o out.txt`` or ``--output-file out.txt``, use ``action='store'`` (default)\n",
    "* optional arguments can also have a limited number of allowed values, i.e. ``choices``\n",
    "* optional parameters and arguments can have a type\n",
    "* positional arguments with ``dest='<attribute_name>'`` and/or ``nargs='[#|*|?]'``\n",
    "\n",
    "The ``argparse`` module provides automatic help when using the ``-h`` option."
   ]
  },
  {
   "cell_type": "markdown",
   "metadata": {
    "collapsed": true,
    "hidden": true
   },
   "source": [
    "<div style=\"text-align: right\"><button>[⇧ Go to top ⇧](#top_cell)</button></div>"
   ]
  }
 ],
 "metadata": {
  "kernelspec": {
   "display_name": "Python 3",
   "language": "python",
   "name": "python3"
  },
  "language_info": {
   "codemirror_mode": {
    "name": "ipython",
    "version": 3
   },
   "file_extension": ".py",
   "mimetype": "text/x-python",
   "name": "python",
   "nbconvert_exporter": "python",
   "pygments_lexer": "ipython3",
   "version": "3.6.1"
  },
  "varInspector": {
   "cols": {
    "lenName": 16,
    "lenType": 16,
    "lenVar": 40
   },
   "kernels_config": {
    "python": {
     "delete_cmd_postfix": "",
     "delete_cmd_prefix": "del ",
     "library": "var_list.py",
     "varRefreshCmd": "print(var_dic_list())"
    },
    "r": {
     "delete_cmd_postfix": ") ",
     "delete_cmd_prefix": "rm(",
     "library": "var_list.r",
     "varRefreshCmd": "cat(var_dic_list()) "
    }
   },
   "types_to_exclude": [
    "module",
    "function",
    "builtin_function_or_method",
    "instance",
    "_Feature"
   ],
   "window_display": false
  }
 },
 "nbformat": 4,
 "nbformat_minor": 2
}
