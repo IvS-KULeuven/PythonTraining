{
 "cells": [
  {
   "cell_type": "markdown",
   "metadata": {
    "deletable": false,
    "editable": false,
    "hide_input": false,
    "run_control": {
     "frozen": true
    }
   },
   "source": [
    "<a id='top_cell'></a>"
   ]
  },
  {
   "cell_type": "markdown",
   "metadata": {},
   "source": [
    "# Advanced Python - Reading YAML configuration files\n",
    "<div style=\"text-align: right\"> [Back to Start](0 Start.ipynb) </div>"
   ]
  },
  {
   "cell_type": "markdown",
   "metadata": {},
   "source": [
    "YAML (YAML Ain't Markup Language) is a human-readable serialization language. You can compare it with JSON (JavaScript Object Notation), but it is much more readable. YAML is mainly used for reading configuration files. Like Python, YAML syntax is rather strict and relies a lot on proper indentation."
   ]
  },
  {
   "cell_type": "markdown",
   "metadata": {},
   "source": [
    "Official documentation: [YAML Ain't Markup Language](http://yaml.org), [](https://yaml.readthedocs.io/en/latest/)\n",
    "\n",
    "Other implementations: \n",
    "\n",
    "* [PyYAML module](http://pyyaml.org/wiki/PyYAMLDocumentation), use ``pip install pyyaml``\n",
    "* [ruamel.yaml](https://yaml.readthedocs.io/en/latest/), use ``pip install ruamel.yaml``\n",
    " "
   ]
  },
  {
   "cell_type": "code",
   "execution_count": null,
   "metadata": {
    "collapsed": true
   },
   "outputs": [],
   "source": [
    "import logging"
   ]
  },
  {
   "cell_type": "markdown",
   "metadata": {},
   "source": [
    "Let's first have a look at what we often find in Python code, hardcoded values of all kind."
   ]
  },
  {
   "cell_type": "code",
   "execution_count": null,
   "metadata": {
    "collapsed": true
   },
   "outputs": [],
   "source": [
    "server = {\n",
    "    'protocol': \"https://\",\n",
    "    'hostname': \"apod.nasa.gov\",\n",
    "    'location': \"/apod/astropix.html\",\n",
    "    'search'  : \"/cgi-bin/apod/apod_search\"    \n",
    "}\n",
    "\n",
    "use_anonymous = True"
   ]
  },
  {
   "cell_type": "code",
   "execution_count": null,
   "metadata": {
    "collapsed": true
   },
   "outputs": [],
   "source": [
    "# value                    name                          unit          reference\n",
    "#===============================================================================\n",
    "cc     = 299792458.        # speed of light              m/s\n",
    "cc_air = cc/1.0002773      # speed of light in air       m/s           T=15C, standard atmospheric pressure\n",
    "Msol   = 1.988547e30       # solar mass                  kg            Harmanec & Prsa 2011\n",
    "Rsol   = 6.95508e8         # solar radius                m             Harmanec & Prsa 2011\n",
    "Lsol   = 3.846e26          # solar luminosity            W             Harmanec & Prsa 2011\n",
    "Tsol   = 5779.5747         # solar effective temperature K             Harmanec & Prsa 2011\n",
    "\n",
    "cc_units     = 'm s-1'\n",
    "cc_air_units = 'm s-1'\n",
    "Msol_units   = 'kg'\n",
    "Rsol_units   = 'm'\n",
    "Lsol_units   = 'kg m2 s-3'\n",
    "Lsol_units   = 'kg m2 s-3'\n",
    "Tsol_units   = 'K'"
   ]
  },
  {
   "cell_type": "code",
   "execution_count": null,
   "metadata": {},
   "outputs": [],
   "source": [
    "obs_par = {\n",
    "    \"MissionDuration\":  6.5,\n",
    "    \"NumExposures\":     10,\n",
    "    \"BeginExposureNr\":  0,\n",
    "    \"ExposureTime\":     21,\n",
    "    \"RApointing\":       180,\n",
    "    \"DecPointing\":      -70,\n",
    "    \"Fluxm0\":           1.00179e8,\n",
    "    \"StarCatalogFile\":  \"inputfiles/starcatalog.txt\"\n",
    "}"
   ]
  },
  {
   "cell_type": "markdown",
   "metadata": {},
   "source": [
    "---"
   ]
  },
  {
   "cell_type": "code",
   "execution_count": null,
   "metadata": {},
   "outputs": [],
   "source": [
    "print (f\"{server['protocol']}{server['hostname']}{server['location']}\")"
   ]
  },
  {
   "cell_type": "code",
   "execution_count": null,
   "metadata": {},
   "outputs": [],
   "source": [
    "print(f\"The speed of light is {cc} {cc_units}.\")"
   ]
  },
  {
   "cell_type": "code",
   "execution_count": null,
   "metadata": {},
   "outputs": [],
   "source": [
    "print (obs_par[\"Fluxm0\"])"
   ]
  },
  {
   "cell_type": "markdown",
   "metadata": {},
   "source": [
    "---"
   ]
  },
  {
   "cell_type": "code",
   "execution_count": null,
   "metadata": {
    "collapsed": true
   },
   "outputs": [],
   "source": [
    "%%script bash\n",
    "cat > config.yaml"
   ]
  },
  {
   "cell_type": "markdown",
   "metadata": {},
   "source": [
    "What if we could put all those settings or constants in a separate file that is human readable and easy to maintain?"
   ]
  },
  {
   "cell_type": "markdown",
   "metadata": {},
   "source": [
    "``` yaml\n",
    "APOD Server:\n",
    "    protocol :    https://\n",
    "    hostname :    apod.nasa.gov\n",
    "    location :    /apod/astropix.html\n",
    "    search   :    /cgi-bin/apod/apod_search\n",
    "\n",
    "use_anonymous: True\n",
    "\n",
    "Constants:\n",
    "    Speed of light:\n",
    "        value: 299792458.\n",
    "        unit : m s-1\n",
    "        \n",
    "    Speed of light in air:\n",
    "        value: 299709348.         # cc/1.0002773, T=15C, standard atmospheric pressure\n",
    "        unit : m s-1\n",
    "        \n",
    "    Solar Mass:                   # Harmanec & Prsa 2011\n",
    "        value: 1.988547e30      \n",
    "        unit : kg\n",
    "    \n",
    "    Solar Radius:                 # Harmanec & Prsa 2011\n",
    "        value: 6.95508e8\n",
    "        unit : m\n",
    "    \n",
    "    Solar Luminosity:             # Harmanec & Prsa 2011\n",
    "        value: 3.846e26\n",
    "        unit : kg m2 s-3\n",
    "        \n",
    "    Solar Effective Temperature:  # Harmanec & Prsa 2011\n",
    "        value: 5779.5747\n",
    "        unit : K\n",
    "\n",
    "    Planck: [6.626070040E-34, \"J s\"]\n",
    "    \n",
    "ObservingParameters:\n",
    "\n",
    "    MissionDuration:   6.5        # Total duration of the mission [yr], relevant for BOL->EOL degradation\n",
    "    NumExposures   :   10         # Number of exposures\n",
    "    BeginExposureNr:    0         # Sequential number of first exposure. useful for slurm parallellisation\n",
    "    ExposureTime   :   21         # [s]\n",
    "    RApointing     :   180        # Platform (not telescope) right ascension pointing coordinate      [deg] \n",
    "    DecPointing    :   -70        # Platform (not telescope) declination pointing coordinate          [deg]\n",
    "    Fluxm0         :   1.00179e8  # Photon flux of a V=0 G2V-star                           [phot/s/m^2/nm]\n",
    "    StarCatalogFile:   inputfiles/starcatalog.txt\n",
    "\n",
    "```"
   ]
  },
  {
   "cell_type": "code",
   "execution_count": null,
   "metadata": {},
   "outputs": [],
   "source": [
    "import yaml"
   ]
  },
  {
   "cell_type": "code",
   "execution_count": null,
   "metadata": {},
   "outputs": [],
   "source": [
    "with open(\"config.yaml\", 'r') as ymlfile:\n",
    "    cfg = yaml.load(ymlfile)"
   ]
  },
  {
   "cell_type": "code",
   "execution_count": null,
   "metadata": {
    "scrolled": true
   },
   "outputs": [],
   "source": [
    "cfg"
   ]
  },
  {
   "cell_type": "code",
   "execution_count": null,
   "metadata": {
    "collapsed": true
   },
   "outputs": [],
   "source": [
    "const = cfg[\"Constants\"]\n",
    "obs_par = cfg[\"ObservingParameters\"]\n",
    "server = cfg[\"APOD Server\"]"
   ]
  },
  {
   "cell_type": "code",
   "execution_count": null,
   "metadata": {},
   "outputs": [],
   "source": [
    "print (f\"{server['protocol']}{server['hostname']}{server['location']}\")"
   ]
  },
  {
   "cell_type": "code",
   "execution_count": null,
   "metadata": {},
   "outputs": [],
   "source": [
    "cc = const[\"Speed of light\"][\"value\"]\n",
    "cc_units = const[\"Speed of light\"][\"unit\"]\n",
    "\n",
    "print (f\"The speed of light is {cc} {cc_units}.\")"
   ]
  },
  {
   "cell_type": "code",
   "execution_count": null,
   "metadata": {},
   "outputs": [],
   "source": [
    "print (f\"Planck's constant: {const['Planck'][0]} {const['Planck'][1]}\")"
   ]
  },
  {
   "cell_type": "code",
   "execution_count": null,
   "metadata": {},
   "outputs": [],
   "source": [
    "print (type(obs_par['Fluxm0']))\n",
    "print (type(const['Planck'][0]))\n",
    "print (type(const['Solar Mass']['value']))"
   ]
  },
  {
   "cell_type": "markdown",
   "metadata": {},
   "source": [
    "There are two other implementations that solve some of the problems of the default package. Both implementations have their benefits and they work similar to the standard implementation. The ``ruamel.yaml`` has one additional trump. This latter has a round-trip that preserves comments in YAML files."
   ]
  },
  {
   "cell_type": "markdown",
   "metadata": {},
   "source": [
    "## ruamel.yaml"
   ]
  },
  {
   "cell_type": "code",
   "execution_count": null,
   "metadata": {
    "collapsed": true
   },
   "outputs": [],
   "source": [
    "from ruamel.yaml import YAML"
   ]
  },
  {
   "cell_type": "code",
   "execution_count": null,
   "metadata": {},
   "outputs": [],
   "source": [
    "yml = YAML(typ='safe')\n",
    "with open(\"config.yaml\", 'r') as ymlfile:\n",
    "    cfg = yml.load(ymlfile)"
   ]
  },
  {
   "cell_type": "code",
   "execution_count": null,
   "metadata": {
    "collapsed": true
   },
   "outputs": [],
   "source": [
    "const = cfg[\"Constants\"]\n",
    "obs_par = cfg[\"ObservingParameters\"]\n",
    "server = cfg[\"APOD Server\"]"
   ]
  },
  {
   "cell_type": "code",
   "execution_count": null,
   "metadata": {},
   "outputs": [],
   "source": [
    "cfg"
   ]
  },
  {
   "cell_type": "code",
   "execution_count": null,
   "metadata": {},
   "outputs": [],
   "source": [
    "cfg[\"ObservingParameters\"]"
   ]
  },
  {
   "cell_type": "code",
   "execution_count": null,
   "metadata": {},
   "outputs": [],
   "source": [
    "print (type(obs_par['Fluxm0']))\n",
    "print (type(const['Planck'][0]))\n",
    "print (type(const['Solar Mass']['value']))"
   ]
  },
  {
   "cell_type": "markdown",
   "metadata": {},
   "source": [
    "For using this in production code, you should of course always check and catch exceptions."
   ]
  },
  {
   "cell_type": "code",
   "execution_count": null,
   "metadata": {},
   "outputs": [],
   "source": [
    "with open(\"config.yaml\", 'r') as ymlfile:\n",
    "    try:\n",
    "        cfg = yaml.load(ymlfile)\n",
    "    except yaml.YAMLError as exc:\n",
    "        logging.error(exc)"
   ]
  },
  {
   "cell_type": "code",
   "execution_count": null,
   "metadata": {},
   "outputs": [],
   "source": [
    "with open(\"config.yaml\", 'r') as ymlfile:\n",
    "    cfg = yaml.load(ymlfile)\n"
   ]
  },
  {
   "cell_type": "code",
   "execution_count": null,
   "metadata": {
    "collapsed": true
   },
   "outputs": [],
   "source": []
  },
  {
   "cell_type": "code",
   "execution_count": null,
   "metadata": {
    "collapsed": true
   },
   "outputs": [],
   "source": []
  },
  {
   "cell_type": "markdown",
   "metadata": {
    "collapsed": true,
    "hidden": true
   },
   "source": [
    "<div style=\"text-align: right\"><button>[⇧ Go to top ⇧](#top_cell)</button></div>"
   ]
  }
 ],
 "metadata": {
  "kernelspec": {
   "display_name": "Python 3",
   "language": "python",
   "name": "python3"
  },
  "language_info": {
   "codemirror_mode": {
    "name": "ipython",
    "version": 3
   },
   "file_extension": ".py",
   "mimetype": "text/x-python",
   "name": "python",
   "nbconvert_exporter": "python",
   "pygments_lexer": "ipython3",
   "version": "3.6.1"
  },
  "varInspector": {
   "cols": {
    "lenName": 16,
    "lenType": 16,
    "lenVar": 40
   },
   "kernels_config": {
    "python": {
     "delete_cmd_postfix": "",
     "delete_cmd_prefix": "del ",
     "library": "var_list.py",
     "varRefreshCmd": "print(var_dic_list())"
    },
    "r": {
     "delete_cmd_postfix": ") ",
     "delete_cmd_prefix": "rm(",
     "library": "var_list.r",
     "varRefreshCmd": "cat(var_dic_list()) "
    }
   },
   "types_to_exclude": [
    "module",
    "function",
    "builtin_function_or_method",
    "instance",
    "_Feature"
   ],
   "window_display": false
  }
 },
 "nbformat": 4,
 "nbformat_minor": 2
}
