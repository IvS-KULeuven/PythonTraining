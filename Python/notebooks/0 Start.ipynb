{
 "cells": [
  {
   "cell_type": "markdown",
   "metadata": {
    "slideshow": {
     "slide_type": "slide"
    }
   },
   "source": [
    "<img src=\"images/logo-color.png\" width=\"100\" align=\"right\">\n",
    "\n",
    "# IT Training - Basic & Advanced Python\n",
    "\n",
    "## Content Basic Python\n",
    "\n",
    "1. [Anaconda](Basic Python%20-%20Anaconda.ipynb) - Setup the Anaconda Python distribution\n",
    "1. [Environments](Basic Python - Environments.ipynb) - Setup multiple virtual environments for Python\n",
    "1. [Running Python](Basic Python - Running Python.ipynb) - Different ways to run your Python code\n",
    "1. [Jupyter Notebook](Basic Python - Jupyter Notebook.ipynb) - How to work with a Jupyter Notebook\n",
    "1. Data Structures\n",
    "   1. Tuples\n",
    "   1. Lists and nested lists\n",
    "   1. Dictionaries and nested dictionaries\n",
    "   1. Comprehension\n",
    "1. I/O\n",
    "   1. Reading and writing CSV files\n",
    "   1. Reading and writing JSON, i.e. dictionaries\n",
    "   1. The pathlib module\n",
    "1. Iterator\n",
    "   1. Generators - ``yield``\n",
    "   1. Transformations - ``map()`` and ``filter()``\n",
    "1. Miscellaneous\n",
    "   1. Simple matplotlib\n",
    "   1. String formatting\n",
    "1. [Logging](Basic Python - Logging.ipynb) - The logging framework"
   ]
  },
  {
   "cell_type": "markdown",
   "metadata": {
    "collapsed": true,
    "slideshow": {
     "slide_type": "slide"
    }
   },
   "source": [
    "<img src=\"images/logo-color.png\" width=\"100\" align=\"right\">\n",
    "\n",
    "# IT Training - Basic & Advanced Python\n",
    "\n",
    "## Content Advance Python\n",
    "\n",
    "1. [Argument Parsing](Advanced Python - Parsing Arguments.ipynb) - Parsing commandline arguments\n",
    "1. [Reading configuration files with YAML](Advanced Python - YAML.ipynb) - Reading YAML configurtion files\n",
    "1. [Packages and Modules](Advanced Python - Packages.ipynb) - Organizing your Python code in Packages and Modules\n",
    "1. [Advanced Jupyter Notebook](Advanced Python - Jupyter Notebook.ipynb) - Advanced Tips & Tricks for Jupyter Notebooks\n",
    "1. [Advanced Logging](Advanced Python - Logging.ipynb) - The logging framework\n",
    "1. [Tuples and friends](Advanced Python - Tuples.ipynb) - The tuples, ``namedtuple``s, data classes and ``__slots__``\n",
    "1. [OOP](Advanced Python - Object Oriented Programming.ipynb) - Classes and Objects\n",
    "\n",
    "## Git & GitHub\n",
    "\n",
    "1. Commandline ``git``\n",
    "\n",
    "## Bonus\n",
    "\n",
    "1. [Programming languages in Astronomy](programming-languages-in-ADS.ipynb)"
   ]
  },
  {
   "cell_type": "markdown",
   "metadata": {},
   "source": [
    "# Slide show"
   ]
  },
  {
   "cell_type": "markdown",
   "metadata": {
    "collapsed": true
   },
   "source": [
    "This notebook can be used as a slide show. Run the following cell to start the slide show. \n",
    "\n",
    "After closing the tab use ``0, 0`` to interrupt the kernel."
   ]
  },
  {
   "cell_type": "code",
   "execution_count": null,
   "metadata": {},
   "outputs": [],
   "source": [
    "%%script bash\n",
    "jupyter nbconvert 0\\ Start.ipynb --to slides --post serve\n"
   ]
  }
 ],
 "metadata": {
  "kernelspec": {
   "display_name": "Python 3",
   "language": "python",
   "name": "python3"
  },
  "language_info": {
   "codemirror_mode": {
    "name": "ipython",
    "version": 3
   },
   "file_extension": ".py",
   "mimetype": "text/x-python",
   "name": "python",
   "nbconvert_exporter": "python",
   "pygments_lexer": "ipython3",
   "version": "3.6.1"
  },
  "varInspector": {
   "cols": {
    "lenName": 16,
    "lenType": 16,
    "lenVar": 40
   },
   "kernels_config": {
    "python": {
     "delete_cmd_postfix": "",
     "delete_cmd_prefix": "del ",
     "library": "var_list.py",
     "varRefreshCmd": "print(var_dic_list())"
    },
    "r": {
     "delete_cmd_postfix": ") ",
     "delete_cmd_prefix": "rm(",
     "library": "var_list.r",
     "varRefreshCmd": "cat(var_dic_list()) "
    }
   },
   "types_to_exclude": [
    "module",
    "function",
    "builtin_function_or_method",
    "instance",
    "_Feature"
   ],
   "window_display": false
  }
 },
 "nbformat": 4,
 "nbformat_minor": 2
}
