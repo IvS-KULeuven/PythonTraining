{
 "cells": [
  {
   "cell_type": "markdown",
   "metadata": {
    "deletable": false,
    "editable": false,
    "run_control": {
     "frozen": true
    }
   },
   "source": [
    "<a id='top_cell'></a>"
   ]
  },
  {
   "cell_type": "markdown",
   "metadata": {},
   "source": [
    "# Basic Python - Environments\n",
    "<div style=\"text-align: right\"> [Back to Start](0 Start.ipynb) </div>"
   ]
  },
  {
   "cell_type": "markdown",
   "metadata": {},
   "source": [
    "## Conda installation"
   ]
  },
  {
   "cell_type": "markdown",
   "metadata": {},
   "source": [
    "A **Python virtual environment** helps you to maintain independant Python installation for different projects.\n",
    "\n",
    "We will talk about the *conda environment* that will be used at our institute. Conda is part of the [Anaconda distribution](https://www.anaconda.com/distribution/) that is installed on all the systems at IvS. \n",
    "\n",
    "We also use the *module* system to load and unload environments and setups. \n"
   ]
  },
  {
   "cell_type": "markdown",
   "metadata": {},
   "source": [
    "To check if conda is installed, just try to execute the ```conda``` command.\n",
    "\n",
    "```\n",
    "$ conda --help\n",
    "-bash: conda: command not found\n",
    "$ \n",
    "```\n",
    "\n",
    "If you get a ``conda not found`` error, you will have to install and setup your environment first. I have created a separate notebook for that called [Basic Python - Anaconda](Basic Python - Anaconda.ipynb). More information can also be found on ``redmine`` and from the system group @IvS.\n"
   ]
  },
  {
   "cell_type": "markdown",
   "metadata": {},
   "source": [
    "\n",
    "```\n",
    "conda --help\n",
    "usage: conda [-h] [-V] command ...\n",
    "\n",
    "conda is a tool for managing and deploying applications, environments and packages.\n",
    "\n",
    "Options:\n",
    "\n",
    "positional arguments:\n",
    "  command\n",
    "    clean        Remove unused packages and caches.\n",
    "    config       Modify configuration values in .condarc. This is modeled\n",
    "                 after the git config command. Writes to the user .condarc\n",
    "                 file (/Users/rik/.condarc) by default.\n",
    "    create       Create a new conda environment from a list of specified\n",
    "                 packages.\n",
    "    help         Displays a list of available conda commands and their help\n",
    "                 strings.\n",
    "    info         Display information about current conda install.\n",
    "    install      Installs a list of packages into a specified conda\n",
    "                 environment.\n",
    "    list         List linked packages in a conda environment.\n",
    "    package      Low-level conda package utility. (EXPERIMENTAL)\n",
    "    remove       Remove a list of packages from a specified conda environment.\n",
    "    uninstall    Alias for conda remove. See conda remove --help.\n",
    "    search       Search for packages and display associated information. The\n",
    "                 input is a MatchSpec, a query language for conda packages.\n",
    "                 See examples below.\n",
    "    update       Updates conda packages to the latest compatible version. This\n",
    "                 command accepts a list of package names and updates them to\n",
    "                 the latest versions that are compatible with all other\n",
    "                 packages in the environment. Conda attempts to install the\n",
    "                 newest versions of the requested packages. To accomplish\n",
    "                 this, it may update some packages that are already installed,\n",
    "                 or install additional packages. To prevent existing packages\n",
    "                 from updating, use the --no-update-deps option. This may\n",
    "                 force conda to install older versions of the requested\n",
    "                 packages, and it does not prevent additional dependency\n",
    "                 packages from being installed. If you wish to skip dependency\n",
    "                 checking altogether, use the '--force' option. This may\n",
    "                 result in an environment with incompatible packages, so this\n",
    "                 option must be used with great caution.\n",
    "    upgrade      Alias for conda update. See conda update --help.\n",
    "\n",
    "optional arguments:\n",
    "  -h, --help     Show this help message and exit.\n",
    "  -V, --version  Show the conda version number and exit.\n",
    "\n",
    "conda commands available from other packages:\n",
    "  env\n",
    "  server\n",
    "```"
   ]
  },
  {
   "cell_type": "markdown",
   "metadata": {},
   "source": [
    "## List available environments"
   ]
  },
  {
   "cell_type": "markdown",
   "metadata": {},
   "source": [
    "```\n",
    "$ conda env list\n",
    "# conda environments:\n",
    "#\n",
    "base                  *  /Users/rik/anaconda3\n",
    "EGSE                     /Users/rik/anaconda3/envs/EGSE\n",
    "cef                      /Users/rik/anaconda3/envs/cef\n",
    "circus                   /Users/rik/anaconda3/envs/circus\n",
    "dmss                     /Users/rik/anaconda3/envs/dmss\n",
    "hvtutorial               /Users/rik/anaconda3/envs/hvtutorial\n",
    "platosim                 /Users/rik/anaconda3/envs/platosim\n",
    "py27                     /Users/rik/anaconda3/envs/py27\n",
    "py36                     /Users/rik/anaconda3/envs/py36\n",
    "py36-safe                /Users/rik/anaconda3/envs/py36-safe\n",
    "py37                     /Users/rik/anaconda3/envs/py37\n",
    "```"
   ]
  },
  {
   "cell_type": "markdown",
   "metadata": {},
   "source": [
    "## Activate a conda environment"
   ]
  },
  {
   "cell_type": "markdown",
   "metadata": {},
   "source": [
    "When you have not created a module to setup your environment, use the conda activation as follows:\n",
    "```\n",
    "$ source activate py37\n",
    "```"
   ]
  },
  {
   "cell_type": "markdown",
   "metadata": {},
   "source": [
    "## Create a new environment"
   ]
  },
  {
   "cell_type": "markdown",
   "metadata": {},
   "source": [
    "Try to keep a separate environment for each project you are working on.\n",
    "\n",
    "```\n",
    "$ conda create --name <project name> python=3.7\n",
    "```\n",
    "This will create an environment "
   ]
  },
  {
   "cell_type": "markdown",
   "metadata": {},
   "source": [
    "## Summary of the conda commands"
   ]
  },
  {
   "cell_type": "markdown",
   "metadata": {
    "collapsed": true
   },
   "source": [
    "```\n",
    "conda env list\n",
    "conda create --name <env-name> python=3.7\n",
    "conda create --clone py37 --name <new env-name>\n",
    "conda install <package name>\n",
    "pip install <package name>\n",
    "conda update <package name>\n",
    "source activate <env-name>\n",
    "conda list\n",
    "```"
   ]
  },
  {
   "cell_type": "markdown",
   "metadata": {
    "collapsed": true
   },
   "source": [
    "<div style=\"text-align: right\"> [Next: Jupyter Notebook](Basic Python - Jupyter Notebook.ipynb) </div>"
   ]
  },
  {
   "cell_type": "markdown",
   "metadata": {
    "collapsed": true,
    "deletable": false,
    "editable": false,
    "run_control": {
     "frozen": true
    }
   },
   "source": [
    "<div style=\"text-align: right\"><button>[⇧ Go to top ⇧](#top_cell)</button></div>"
   ]
  }
 ],
 "metadata": {
  "kernelspec": {
   "display_name": "Python 3",
   "language": "python",
   "name": "python3"
  },
  "language_info": {
   "codemirror_mode": {
    "name": "ipython",
    "version": 3
   },
   "file_extension": ".py",
   "mimetype": "text/x-python",
   "name": "python",
   "nbconvert_exporter": "python",
   "pygments_lexer": "ipython3",
   "version": "3.6.1"
  }
 },
 "nbformat": 4,
 "nbformat_minor": 2
}
