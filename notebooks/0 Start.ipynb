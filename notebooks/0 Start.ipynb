{
 "cells": [
  {
   "cell_type": "markdown",
   "metadata": {},
   "source": [
    "<img src=\"images/logo-color.png\" width=\"100\" align=\"right\">"
   ]
  },
  {
   "cell_type": "markdown",
   "metadata": {},
   "source": [
    "# IT Training - Basic & Advanced Python"
   ]
  },
  {
   "cell_type": "markdown",
   "metadata": {},
   "source": [
    "## Content Basic Python"
   ]
  },
  {
   "cell_type": "markdown",
   "metadata": {},
   "source": [
    "1. [Anaconda](Basic Python - Anaconda.ipynb) - Setup the Anaconda Python distribution\n",
    "1. [Environments](Basic Python - Environments.ipynb) - Setup multiple virtual environments for Python\n",
    "1. [Running Python](Basic Python - Running Python.ipynb) - Different ways to run your Python code\n",
    "1. [Jupyter Notebook](Basic Python - Jupyter Notebook.ipynb) - How to work with a Jupyter Notebook\n",
    "1. [Logging](Basic Python - Logging.ipynb) - The logging framework\n",
    "1. [Packages and Modules](Basic Python - Packages.ipynb) - Organizing your Python code in Packages and Modules"
   ]
  },
  {
   "cell_type": "markdown",
   "metadata": {
    "collapsed": true
   },
   "source": [
    "## Content Advance Python"
   ]
  },
  {
   "cell_type": "markdown",
   "metadata": {},
   "source": [
    "1. [Advance Jupyter Notebook](Advanced Python - Jupyter Notebook.ipynb) - Advanced Tips & Tricks for Jupyter Notebooks\n",
    "1. [Advanced Logging](Advanced Python - Logging.ipynb) - The logging framework\n",
    "1. [Tuples and friends](Advanced Python - Tuples.ipynb) - The tuples, ``namedtuple``s, data classes and ``__slots__``\n",
    "1. [OOP]() - Classes and Objects\n"
   ]
  },
  {
   "cell_type": "code",
   "execution_count": null,
   "metadata": {
    "collapsed": true
   },
   "outputs": [],
   "source": []
  }
 ],
 "metadata": {
  "kernelspec": {
   "display_name": "Python 3",
   "language": "python",
   "name": "python3"
  },
  "language_info": {
   "codemirror_mode": {
    "name": "ipython",
    "version": 3
   },
   "file_extension": ".py",
   "mimetype": "text/x-python",
   "name": "python",
   "nbconvert_exporter": "python",
   "pygments_lexer": "ipython3",
   "version": "3.6.1"
  },
  "varInspector": {
   "cols": {
    "lenName": 16,
    "lenType": 16,
    "lenVar": 40
   },
   "kernels_config": {
    "python": {
     "delete_cmd_postfix": "",
     "delete_cmd_prefix": "del ",
     "library": "var_list.py",
     "varRefreshCmd": "print(var_dic_list())"
    },
    "r": {
     "delete_cmd_postfix": ") ",
     "delete_cmd_prefix": "rm(",
     "library": "var_list.r",
     "varRefreshCmd": "cat(var_dic_list()) "
    }
   },
   "types_to_exclude": [
    "module",
    "function",
    "builtin_function_or_method",
    "instance",
    "_Feature"
   ],
   "window_display": false
  }
 },
 "nbformat": 4,
 "nbformat_minor": 2
}
