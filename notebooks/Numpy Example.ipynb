{
 "cells": [
  {
   "cell_type": "markdown",
   "metadata": {},
   "source": [
    "# Numpy Example"
   ]
  },
  {
   "cell_type": "markdown",
   "metadata": {},
   "source": [
    "In this script, we first simulated an image of the sky by adding a number of\n",
    "Gaussian stars. Then we look for the brightest star in the field and extract\n",
    "the measured flux. We compare the measured flux as a function of aperture size.\n"
   ]
  },
  {
   "cell_type": "code",
   "execution_count": null,
   "metadata": {
    "collapsed": true,
    "init_cell": true
   },
   "outputs": [],
   "source": [
    "%matplotlib inline"
   ]
  },
  {
   "cell_type": "code",
   "execution_count": null,
   "metadata": {
    "collapsed": true,
    "init_cell": true
   },
   "outputs": [],
   "source": [
    "import matplotlib.pyplot as plt\n",
    "import numpy as np\n",
    "\n",
    "from collections import namedtuple"
   ]
  },
  {
   "cell_type": "code",
   "execution_count": null,
   "metadata": {
    "collapsed": true,
    "init_cell": true
   },
   "outputs": [],
   "source": [
    "import logging\n",
    "\n",
    "logging.basicConfig(level=logging.INFO) # Default level is WARNING"
   ]
  },
  {
   "cell_type": "code",
   "execution_count": null,
   "metadata": {
    "collapsed": true,
    "init_cell": true
   },
   "outputs": [],
   "source": [
    "ImageSize = namedtuple(\"ImageSize\", \"width height\")"
   ]
  },
  {
   "cell_type": "markdown",
   "metadata": {},
   "source": [
    "Set input parameters:"
   ]
  },
  {
   "cell_type": "code",
   "execution_count": null,
   "metadata": {
    "collapsed": true
   },
   "outputs": [],
   "source": [
    "np.random.seed(10001)\n",
    "image_size = ImageSize(1000, 1200)\n",
    "number_of_stars = 50\n",
    "bias = 100.\n",
    "noise = 1."
   ]
  },
  {
   "cell_type": "markdown",
   "metadata": {},
   "source": [
    "Define a function that a Gaussian PSF of a star."
   ]
  },
  {
   "cell_type": "code",
   "execution_count": null,
   "metadata": {
    "collapsed": true
   },
   "outputs": [],
   "source": [
    "def star_image(image_coords, star_coords, sigma=1.0, peak_brightness=1.0):\n",
    "    \"\"\"\n",
    "    Definition of the Gaussian PSF of a star. \n",
    "    \"\"\"\n",
    "    X,Y = image_coords\n",
    "    star_x,star_y = star_coords\n",
    "    starshape = peak_brightness * np.exp( -0.5*((X-star_x)**2 + (Y-star_y)**2) / sigma**2)\n",
    "    logging.debug(f\"Added star at {star_coords} (sigma={sigma:.2f}, peak={peak_brightness:.2f})\")\n",
    "    return starshape"
   ]
  },
  {
   "cell_type": "raw",
   "metadata": {},
   "source": [
    "Generate simulated image."
   ]
  },
  {
   "cell_type": "code",
   "execution_count": null,
   "metadata": {
    "collapsed": true
   },
   "outputs": [],
   "source": [
    "#-- start with a bias image\n",
    "\n",
    "image = bias*np.ones(image_size)\n",
    "\n",
    "#-- create a coordinate grid of the image to easily compute distances etc.\n",
    "\n",
    "X,Y = np.mgrid[0:image_size.width:1,0:image_size.height:1]\n",
    "\n",
    "#-- create a set of random parameters to characterize the input stars.\n",
    "#   This table consists of 'number_of_star' rows and 4 columns:\n",
    "#       Column 0: X coordinate of star\n",
    "#       Column 1: Y coordinate of star\n",
    "#       Column 2: width of star\n",
    "#       Column 3: star brightness\n",
    "\n",
    "stars = np.random.uniform(low=np.array([0, 0, 5.2, 5]),\n",
    "                          high=np.array([image_size.width, image_size.height, 5.5, 100]),\n",
    "                          size=(number_of_stars, 4))\n",
    "\n",
    "#-- See where the brightest star is located and what its total flux is.\n",
    "\n",
    "brightest_star_input = np.argmax(stars[:,3])\n",
    "predicted_flux = 2*np.pi*stars[brightest_star_input,2]**2*stars[brightest_star_input,3]\n",
    "\n",
    "#-- now add all the input stars to the image\n",
    "\n",
    "for star in stars:\n",
    "    image += star_image((X,Y),star[:2],sigma=star[2],peak_brightness=star[3])\n",
    "\n",
    "#-- and add some random noise the image\n",
    "\n",
    "image += np.random.normal(size=image.shape, scale=noise)\n"
   ]
  },
  {
   "cell_type": "markdown",
   "metadata": {},
   "source": [
    "Extract the brightest star from the simulated image."
   ]
  },
  {
   "cell_type": "code",
   "execution_count": null,
   "metadata": {},
   "outputs": [],
   "source": [
    "#-- first determine the bias\n",
    "\n",
    "bias_meas = np.median(np.ravel(image))\n",
    "\n",
    "#-- get the location of the brightest star\n",
    "\n",
    "Xc,Yc = np.unravel_index(image.argmax(),image.shape)\n",
    "logging.info (f\"Location of brightest star: {Xc}, {Yc}\")\n",
    "\n",
    "#-- determine the distance from each pixel to the brightest star: we want to \n",
    "#   sum up all flux inside a region around the brightest stars (an aperture).\n",
    "#   We will use different aperture sizes to see how the measured flux is\n",
    "#   dependent on it\n",
    "\n",
    "distance = np.sqrt( (X-Xc)**2 + (Y-Yc)**2)\n",
    "apertures = np.linspace(0.5,5,10)*stars[:,-2].mean()\n",
    "\n",
    "#-- prepare an array to collect the measured fluxes as a function of aperture\n",
    "\n",
    "measured_fluxes = np.zeros_like(apertures)\n",
    "\n",
    "#-- now sum up the flux inside each aperture. Therefore, copy the original\n",
    "#   image into a new array, and set all the flux outside the aperture to zero.\n",
    "#   Then, subtract the bias and sum the whole\n",
    "\n",
    "for i,aperture in enumerate(apertures):\n",
    "    brightest_star = distance<=aperture\n",
    "    extracted = image+0.\n",
    "    extracted[~brightest_star] = 0\n",
    "    extracted[brightest_star] -= bias_meas\n",
    "    measured_fluxes[i] = extracted.sum()\n",
    "    logging.info(f\"Aperture {aperture:.4f}: flux = {measured_fluxes[i]:.4f} (real = {predicted_flux}\")"
   ]
  },
  {
   "cell_type": "markdown",
   "metadata": {},
   "source": [
    "Make a plot of the measured/predicted fluxes."
   ]
  },
  {
   "cell_type": "code",
   "execution_count": null,
   "metadata": {},
   "outputs": [],
   "source": [
    "plt.figure(figsize=(10, 6))\n",
    "plt.plot(apertures, measured_fluxes, 'ko-')\n",
    "plt.plot(apertures, np.ones_like(apertures)*predicted_flux, 'r-')\n",
    "plt.xlabel(\"Aperture\")\n",
    "plt.ylabel(\"Flux\");"
   ]
  },
  {
   "cell_type": "markdown",
   "metadata": {},
   "source": [
    "Make a plot of the image itself and the extracted region."
   ]
  },
  {
   "cell_type": "code",
   "execution_count": null,
   "metadata": {},
   "outputs": [],
   "source": [
    "plt.figure(figsize=(10,6))\n",
    "plt.imshow(image, cmap=plt.cm.hot)\n",
    "plt.plot(Yc,Xc,'gx',ms=20,mew=2)\n",
    "plt.colorbar()\n",
    "plt.xlim(0,image_size.height)\n",
    "plt.ylim(0,image_size.width);"
   ]
  },
  {
   "cell_type": "markdown",
   "metadata": {},
   "source": [
    "Don't plot the flux outside the extracted region."
   ]
  },
  {
   "cell_type": "code",
   "execution_count": null,
   "metadata": {
    "collapsed": true
   },
   "outputs": [],
   "source": [
    "extracted[~brightest_star] = np.nan"
   ]
  },
  {
   "cell_type": "code",
   "execution_count": null,
   "metadata": {
    "scrolled": false
   },
   "outputs": [],
   "source": [
    "plt.figure(figsize=(10,6))\n",
    "plt.imshow(extracted, cmap=plt.cm.hot)\n",
    "plt.colorbar()\n",
    "plt.xlim(0,image_size[1])\n",
    "plt.ylim(0,image_size[0]);"
   ]
  },
  {
   "cell_type": "code",
   "execution_count": null,
   "metadata": {
    "collapsed": true
   },
   "outputs": [],
   "source": []
  }
 ],
 "metadata": {
  "kernelspec": {
   "display_name": "Python 3",
   "language": "python",
   "name": "python3"
  },
  "language_info": {
   "codemirror_mode": {
    "name": "ipython",
    "version": 3
   },
   "file_extension": ".py",
   "mimetype": "text/x-python",
   "name": "python",
   "nbconvert_exporter": "python",
   "pygments_lexer": "ipython3",
   "version": "3.6.1"
  },
  "varInspector": {
   "cols": {
    "lenName": 16,
    "lenType": 16,
    "lenVar": 40
   },
   "kernels_config": {
    "python": {
     "delete_cmd_postfix": "",
     "delete_cmd_prefix": "del ",
     "library": "var_list.py",
     "varRefreshCmd": "print(var_dic_list())"
    },
    "r": {
     "delete_cmd_postfix": ") ",
     "delete_cmd_prefix": "rm(",
     "library": "var_list.r",
     "varRefreshCmd": "cat(var_dic_list()) "
    }
   },
   "position": {
    "height": "238px",
    "left": "876.8614501953125px",
    "right": "30.747283935546875px",
    "top": "105px",
    "width": "553px"
   },
   "types_to_exclude": [
    "module",
    "function",
    "builtin_function_or_method",
    "instance",
    "_Feature"
   ],
   "window_display": false
  }
 },
 "nbformat": 4,
 "nbformat_minor": 2
}
