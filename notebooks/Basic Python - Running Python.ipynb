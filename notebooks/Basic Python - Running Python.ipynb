{
 "cells": [
  {
   "cell_type": "markdown",
   "metadata": {
    "deletable": false,
    "editable": false,
    "run_control": {
     "frozen": true
    }
   },
   "source": [
    "<a id='top_cell'></a>"
   ]
  },
  {
   "cell_type": "markdown",
   "metadata": {},
   "source": [
    "# Basic Python - Running Python"
   ]
  },
  {
   "cell_type": "markdown",
   "metadata": {
    "collapsed": true
   },
   "source": [
    "There are many different ways to run you Python code. Some ways are preferred for different reasons."
   ]
  },
  {
   "cell_type": "markdown",
   "metadata": {},
   "source": [
    "## Running ``python`` on the command prompt"
   ]
  },
  {
   "cell_type": "markdown",
   "metadata": {},
   "source": [
    "This is of limited use as an interactive Python editor. Use this to just quickly test something in the Terminal, or if you need a calculator."
   ]
  },
  {
   "cell_type": "markdown",
   "metadata": {},
   "source": [
    "```\n",
    "$ module load anaconda\n",
    "$ python\n",
    "Python 3.6.1 |Anaconda custom (x86_64)| (default, May 11 2017, 13:04:09) \n",
    "[GCC 4.2.1 Compatible Apple LLVM 6.0 (clang-600.0.57)] on darwin\n",
    "Type \"help\", \"copyright\", \"credits\" or \"license\" for more information.\n",
    ">>> import sys\n",
    ">>> sys.path\n",
    "['', '/Users/rik/anaconda3/lib/python36.zip', '/Users/rik/anaconda3/lib/python3.6', '/Users/rik/anaconda3/lib/python3.6/lib-dynload', '/Users/rik/anaconda3/lib/python3.6/site-packages', '/Users/rik/anaconda3/lib/python3.6/site-packages/Sphinx-1.5.6-py3.6.egg', '/Users/rik/anaconda3/lib/python3.6/site-packages/aeosa']\n",
    ">>> print (\"Hello, World!\")\n",
    "Hello, World!\n",
    ">>> for i in (1,2,3,4,5):\n",
    "...   print (i)\n",
    "... \n",
    "1\n",
    "2\n",
    "3\n",
    "4\n",
    "5\n",
    ">>> from math import *\n",
    ">>> sin(pi/2)\n",
    "1.0\n",
    ">>> quit\n",
    "Use quit() or Ctrl-D (i.e. EOF) to exit\n",
    "```"
   ]
  },
  {
   "cell_type": "markdown",
   "metadata": {},
   "source": [
    "Use ``CTRL-D`` to exit the python interpreter."
   ]
  },
  {
   "cell_type": "markdown",
   "metadata": {},
   "source": [
    "## Running ``iPython`` on the command prompt"
   ]
  },
  {
   "cell_type": "markdown",
   "metadata": {},
   "source": [
    "This is a much better option on the command-line. It has syntax highlighting, better formatted output, dynamic object introspection, access to the system shell (i.e. bash)"
   ]
  },
  {
   "cell_type": "markdown",
   "metadata": {},
   "source": [
    "```bash\n",
    "$ module load anaconda\n",
    "$ ipython\n",
    "Python 3.6.1 |Anaconda custom (x86_64)| (default, May 11 2017, 13:04:09) \n",
    "Type \"copyright\", \"credits\" or \"license\" for more information.\n",
    "\n",
    "IPython 5.3.0 -- An enhanced Interactive Python.\n",
    "?         -> Introduction and overview of IPython's features.\n",
    "%quickref -> Quick reference.\n",
    "help      -> Python's own help system.\n",
    "object?   -> Details about 'object', use 'object??' for extra details.\n",
    "\n",
    "In [1]: !ls Documents/Python/Lib/\n",
    "__pycache__ myh5.py\n",
    "\n",
    "In [2]: import sys\n",
    "In [3]: sys.path.append( \"Documents/Python/Lib/\")\n",
    "\n",
    "In [4]: import myh5\n",
    "\n",
    "In [5]: myh5?\n",
    "Type:        module\n",
    "String form: <module 'myh5' from 'Documents/Python/Lib/myh5.py'>\n",
    "File:        ~/Documents/Python/Lib/myh5.py\n",
    "Docstring:  \n",
    "MyH5 - Inspect HDF5 files from the commandline\n",
    "\n",
    "This module uses the h5py module to load and navigate the HDF5. It provides\n",
    "a number of convenience methods for inspecting the HDF5 file structure and\n",
    "contents. \n",
    "\n",
    "...\n",
    "\n",
    "```"
   ]
  },
  {
   "cell_type": "markdown",
   "metadata": {},
   "source": [
    "The iPython interpreter has many options. Check out the help on the command-line with the ``--help`` option, or visit the [iPython On-Line Documentation](https://ipython.readthedocs.io/en/stable/)."
   ]
  },
  {
   "cell_type": "markdown",
   "metadata": {},
   "source": [
    "## Running the Jupyter Notebook"
   ]
  },
  {
   "cell_type": "markdown",
   "metadata": {},
   "source": [
    "A Jupyter Notebook is a client-server application that allows you to interactively run Python code from a web page. The web page is called the notebook and provides code cells that you can edit and run and markdown cells for documentation. We will work a lot with Jupyter Notebooks in this tutorial."
   ]
  },
  {
   "cell_type": "markdown",
   "metadata": {},
   "source": [
    "Check out the [Official Jupyter documentation](https://jupyter.readthedocs.io/en/latest/) or visit the [Jupyter Notebook Beginners Guide](https://jupyter-notebook-beginner-guide.readthedocs.io/en/latest/index.html)."
   ]
  },
  {
   "cell_type": "markdown",
   "metadata": {},
   "source": [
    "## Running Spyder"
   ]
  },
  {
   "cell_type": "markdown",
   "metadata": {},
   "source": [
    "Spyder is a Python IDE (Intergrated Development Environment) and is also a layer on top of iPython and kernels."
   ]
  },
  {
   "cell_type": "markdown",
   "metadata": {},
   "source": [
    "Insert a figure here of a Spyder session."
   ]
  },
  {
   "cell_type": "markdown",
   "metadata": {},
   "source": [
    "## Running Python Scripts"
   ]
  },
  {
   "cell_type": "markdown",
   "metadata": {},
   "source": [
    "### Run scripts in a Terminal"
   ]
  },
  {
   "cell_type": "markdown",
   "metadata": {},
   "source": [
    "Run a demo.\n",
    "\n",
    "* export ``PYTHONPATH``\n",
    "* #!/usr/bin/env python\n",
    "* redirect output ``'>'`` and ``'2>'``"
   ]
  },
  {
   "cell_type": "markdown",
   "metadata": {},
   "source": [
    "### Run scripts in VSCode"
   ]
  },
  {
   "cell_type": "markdown",
   "metadata": {},
   "source": [
    "Run a demo."
   ]
  },
  {
   "cell_type": "markdown",
   "metadata": {
    "deletable": false,
    "editable": false,
    "run_control": {
     "frozen": true
    }
   },
   "source": [
    "<div style=\"text-align: right\"><button>[⇧ Go to top ⇧](#top_cell)</button></div>"
   ]
  }
 ],
 "metadata": {
  "kernelspec": {
   "display_name": "Python 3",
   "language": "python",
   "name": "python3"
  },
  "language_info": {
   "codemirror_mode": {
    "name": "ipython",
    "version": 3
   },
   "file_extension": ".py",
   "mimetype": "text/x-python",
   "name": "python",
   "nbconvert_exporter": "python",
   "pygments_lexer": "ipython3",
   "version": "3.6.1"
  },
  "varInspector": {
   "cols": {
    "lenName": 16,
    "lenType": 16,
    "lenVar": 40
   },
   "kernels_config": {
    "python": {
     "delete_cmd_postfix": "",
     "delete_cmd_prefix": "del ",
     "library": "var_list.py",
     "varRefreshCmd": "print(var_dic_list())"
    },
    "r": {
     "delete_cmd_postfix": ") ",
     "delete_cmd_prefix": "rm(",
     "library": "var_list.r",
     "varRefreshCmd": "cat(var_dic_list()) "
    }
   },
   "types_to_exclude": [
    "module",
    "function",
    "builtin_function_or_method",
    "instance",
    "_Feature"
   ],
   "window_display": false
  }
 },
 "nbformat": 4,
 "nbformat_minor": 2
}
