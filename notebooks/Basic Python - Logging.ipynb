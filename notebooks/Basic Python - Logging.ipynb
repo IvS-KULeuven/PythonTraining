{
 "cells": [
  {
   "cell_type": "markdown",
   "metadata": {
    "deletable": false,
    "editable": false,
    "hide_input": true,
    "run_control": {
     "frozen": true
    }
   },
   "source": [
    "<a id='top_cell'></a>"
   ]
  },
  {
   "cell_type": "markdown",
   "metadata": {},
   "source": [
    "# Basic Python - Logging\n",
    "<div style=\"text-align: right\"> [Back to Start](0 Start.ipynb) </div>"
   ]
  },
  {
   "cell_type": "markdown",
   "metadata": {
    "heading_collapsed": true
   },
   "source": [
    "## Standard logging module\n",
    "<div style=\"text-align: right\">[Standard Logging](https://docs.python.org/3/library/logging.html#module-logging)</div>"
   ]
  },
  {
   "cell_type": "code",
   "execution_count": 2,
   "metadata": {
    "collapsed": true,
    "hidden": true
   },
   "outputs": [],
   "source": [
    "import logging"
   ]
  },
  {
   "cell_type": "markdown",
   "metadata": {
    "hidden": true
   },
   "source": [
    "Logging levels: ``'DEBUG'=10``, ``'INFO'=20``, ``'WARNING'=30``, ``'ERROR'=40``, ``'CRITICAL'=50``\n",
    "\n",
    "The default after importing the ``logging`` module is ``'WARNING'``. "
   ]
  },
  {
   "cell_type": "code",
   "execution_count": 3,
   "metadata": {
    "hidden": true
   },
   "outputs": [
    {
     "data": {
      "text/plain": [
       "30"
      ]
     },
     "execution_count": 3,
     "metadata": {},
     "output_type": "execute_result"
    }
   ],
   "source": [
    "logging.WARNING"
   ]
  },
  {
   "cell_type": "markdown",
   "metadata": {
    "hidden": true
   },
   "source": [
    "This table provides a simple explanation for the logging levels and which level you shoyld choose for which kind of messages. \\[[source](https://docs.python.org/3.7/howto/logging.html)\\]\n",
    "\n",
    "| Level | Description |\n",
    "| :---  | :---        |\n",
    "| DEBUG\t| Detailed information, typically of interest only when diagnosing problems. This level usually produces a lot of messages.|\n",
    "| INFO | Confirmation that things are working as expected. |\n",
    "| WARNING | An indication that something unexpected happened, or indicative of some problem in the near future (e.g. ‘disk space low’). The software is still working as expected. |\n",
    "| ERROR | Due to a more serious problem, the software has not been able to perform some function. |\n",
    "| CRITICAL | A serious error, indicating that the program itself may be unable to continue running. |"
   ]
  },
  {
   "cell_type": "code",
   "execution_count": null,
   "metadata": {
    "code_folding": [],
    "collapsed": true,
    "hidden": true,
    "scrolled": true
   },
   "outputs": [],
   "source": [
    "logging.info(\"This is an info message.\")\n",
    "logging.warning(\"This is an warning message.\")"
   ]
  },
  {
   "cell_type": "code",
   "execution_count": null,
   "metadata": {
    "collapsed": true,
    "hidden": true
   },
   "outputs": [],
   "source": [
    "logging.basicConfig(level=logging.INFO)"
   ]
  },
  {
   "cell_type": "code",
   "execution_count": null,
   "metadata": {
    "collapsed": true,
    "hidden": true
   },
   "outputs": [],
   "source": [
    "logging.info(\"This is an info message.\")\n",
    "logging.warning(\"This is an warningmessage.\")"
   ]
  },
  {
   "cell_type": "markdown",
   "metadata": {
    "hidden": true
   },
   "source": [
    "The call to ``basicConfig()`` should come before any calls to ``debug()``, ``info()`` etc. As it’s intended as a one-off simple configuration facility, only the first call will actually do anything: subsequent calls are effectively no-ops."
   ]
  },
  {
   "cell_type": "markdown",
   "metadata": {
    "hidden": true
   },
   "source": [
    "We can restart our script with the ``basicConfig()`` at the beginning of the script, or we can reload the logging module and reconfigure it. "
   ]
  },
  {
   "cell_type": "code",
   "execution_count": null,
   "metadata": {
    "collapsed": true,
    "hidden": true
   },
   "outputs": [],
   "source": [
    "from importlib import reload\n",
    "reload(logging)"
   ]
  },
  {
   "cell_type": "code",
   "execution_count": null,
   "metadata": {
    "collapsed": true,
    "hidden": true
   },
   "outputs": [],
   "source": [
    "logging.info(\"This is an info message.\")\n",
    "logging.warning(\"This is an warningmessage.\")"
   ]
  },
  {
   "cell_type": "code",
   "execution_count": null,
   "metadata": {
    "collapsed": true,
    "hidden": true
   },
   "outputs": [],
   "source": [
    "logging.basicConfig(filename='example.log', filemode='w', level=logging.DEBUG)"
   ]
  },
  {
   "cell_type": "code",
   "execution_count": null,
   "metadata": {
    "collapsed": true,
    "hidden": true
   },
   "outputs": [],
   "source": [
    "logging.info(\"This is an info message.\")\n",
    "logging.warning(\"This is an warningmessage.\")"
   ]
  },
  {
   "cell_type": "markdown",
   "metadata": {
    "hidden": true
   },
   "source": [
    "<div style=\"text-align: right\"> [LogRecord Attributes](https://docs.python.org/3/library/logging.html#logrecord-attributes) </div>\n",
    "\n",
    "| Attribute          | Description |\n",
    "| :---               | :---        |\n",
    "| ``%(asctime)s``    | human readable time |\n",
    "| ``%(message)s``    | the log message |\n",
    "| ``%(funcName)s``   | name of the function that contains the logging call |\n",
    "| ``%(levelname)s``  | logging level ``'DEBUG'``, ``'INFO'``, ``'WARNING'``, ``'ERROR'``, ``'CRITICAL'`` |\n",
    "| ``%(lineno)d``     | source line number where the logging call was made |"
   ]
  },
  {
   "cell_type": "code",
   "execution_count": null,
   "metadata": {
    "code_folding": [],
    "collapsed": true,
    "hidden": true
   },
   "outputs": [],
   "source": [
    "logging.basicConfig(format='%(asctime)s %(levelname)s %(funcName)s %(lineno)d %(message)s', \\\n",
    "                    level=logging.DEBUG, datefmt='%d/%m/%Y %H:%M:%S')"
   ]
  },
  {
   "cell_type": "code",
   "execution_count": null,
   "metadata": {
    "collapsed": true,
    "hidden": true
   },
   "outputs": [],
   "source": [
    "logging.info(\"This is an info message.\")\n",
    "logging.warning(\"This is an warningmessage.\")"
   ]
  },
  {
   "cell_type": "markdown",
   "metadata": {
    "hidden": true
   },
   "source": [
    "### Logging by module"
   ]
  },
  {
   "cell_type": "markdown",
   "metadata": {
    "hidden": true
   },
   "source": [
    "When you are writing a module or package, use a logger which is specific for that module with the command below. Put that command at the beginning of the module source code. Never configure a logging system in any module, only emit logging messages. Configuration should happen in the calling application or script."
   ]
  },
  {
   "cell_type": "markdown",
   "metadata": {
    "hidden": true
   },
   "source": [
    "In a module use a named logger that is named after the module. That enables the calling Python code to filter the logging messages based in the module name."
   ]
  },
  {
   "cell_type": "code",
   "execution_count": null,
   "metadata": {
    "collapsed": true,
    "hidden": true
   },
   "outputs": [],
   "source": [
    "log = logging.getLogger(__name__)"
   ]
  },
  {
   "cell_type": "markdown",
   "metadata": {
    "heading_collapsed": true
   },
   "source": [
    "## Daiquiri logging package\n",
    "<div style=\"text-align: right\"> [Daiquiri Docs](https://daiquiri.readthedocs.io/en/latest/)</div>"
   ]
  },
  {
   "cell_type": "markdown",
   "metadata": {
    "hidden": true
   },
   "source": [
    "For interactive Python, the daiquiri logging package provides a better user experience."
   ]
  },
  {
   "cell_type": "code",
   "execution_count": null,
   "metadata": {
    "collapsed": true,
    "hidden": true
   },
   "outputs": [],
   "source": [
    "import daiquiri"
   ]
  },
  {
   "cell_type": "code",
   "execution_count": null,
   "metadata": {
    "collapsed": true,
    "hidden": true
   },
   "outputs": [],
   "source": [
    "logger = daiquiri.getLogger()"
   ]
  },
  {
   "cell_type": "code",
   "execution_count": null,
   "metadata": {
    "collapsed": true,
    "hidden": true
   },
   "outputs": [],
   "source": [
    "daiquiri.setup(level=logging.WARNING)"
   ]
  },
  {
   "cell_type": "code",
   "execution_count": null,
   "metadata": {
    "collapsed": true,
    "hidden": true
   },
   "outputs": [],
   "source": [
    "logger.info(\"This is a daiquiri logging info message.\")\n",
    "logger.warning(\"This is a daiquiri logging warning message.\")"
   ]
  },
  {
   "cell_type": "code",
   "execution_count": null,
   "metadata": {
    "collapsed": true,
    "hidden": true
   },
   "outputs": [],
   "source": [
    "logger.setLevel(logging.INFO)"
   ]
  },
  {
   "cell_type": "code",
   "execution_count": null,
   "metadata": {
    "collapsed": true,
    "hidden": true
   },
   "outputs": [],
   "source": [
    "logger.info(\"This is a daiquiri logging info message.\")\n",
    "logger.warning(\"This is a daiquiri logging warning message.\")"
   ]
  },
  {
   "cell_type": "code",
   "execution_count": null,
   "metadata": {
    "code_folding": [],
    "collapsed": true,
    "hidden": true
   },
   "outputs": [],
   "source": [
    "daiquiri.setup(level=logging.DEBUG, outputs=(\n",
    "    daiquiri.output.Stream(formatter=daiquiri.formatter.ColorFormatter(\n",
    "        fmt=(\"%(levelname)-8s %(lineno)5d %(funcName)32s: %(message)s\"))),\n",
    "    ))"
   ]
  },
  {
   "cell_type": "code",
   "execution_count": null,
   "metadata": {
    "collapsed": true,
    "hidden": true
   },
   "outputs": [],
   "source": [
    "def log_this_message(msg):\n",
    "    \"\"\"This function simply logs the given message.\"\"\"\n",
    "    logger.debug(msg)\n"
   ]
  },
  {
   "cell_type": "code",
   "execution_count": null,
   "metadata": {
    "collapsed": true,
    "hidden": true
   },
   "outputs": [],
   "source": [
    "log_this_message(\"A debugging message.\")"
   ]
  },
  {
   "cell_type": "code",
   "execution_count": null,
   "metadata": {
    "collapsed": true,
    "hidden": true
   },
   "outputs": [],
   "source": [
    "logger.setLevel(logging.INFO)"
   ]
  },
  {
   "cell_type": "code",
   "execution_count": null,
   "metadata": {
    "collapsed": true,
    "hidden": true
   },
   "outputs": [],
   "source": [
    "log_this_message(\"A debugging message.\")"
   ]
  },
  {
   "cell_type": "code",
   "execution_count": null,
   "metadata": {
    "collapsed": true,
    "hidden": true
   },
   "outputs": [],
   "source": [
    "daiquiri.setup(level=logging.DEBUG)"
   ]
  },
  {
   "cell_type": "code",
   "execution_count": null,
   "metadata": {
    "collapsed": true,
    "hidden": true
   },
   "outputs": [],
   "source": [
    "log_this_message(\"A debugging message.\")"
   ]
  },
  {
   "cell_type": "markdown",
   "metadata": {
    "collapsed": true,
    "hidden": true
   },
   "source": [
    "<div style=\"text-align: right\"><button>[⇧ Go to top ⇧](#top_cell)</button></div>"
   ]
  }
 ],
 "metadata": {
  "kernelspec": {
   "display_name": "Python 3",
   "language": "python",
   "name": "python3"
  },
  "language_info": {
   "codemirror_mode": {
    "name": "ipython",
    "version": 3
   },
   "file_extension": ".py",
   "mimetype": "text/x-python",
   "name": "python",
   "nbconvert_exporter": "python",
   "pygments_lexer": "ipython3",
   "version": "3.6.1"
  },
  "varInspector": {
   "cols": {
    "lenName": 16,
    "lenType": 16,
    "lenVar": 40
   },
   "kernels_config": {
    "python": {
     "delete_cmd_postfix": "",
     "delete_cmd_prefix": "del ",
     "library": "var_list.py",
     "varRefreshCmd": "print(var_dic_list())"
    },
    "r": {
     "delete_cmd_postfix": ") ",
     "delete_cmd_prefix": "rm(",
     "library": "var_list.r",
     "varRefreshCmd": "cat(var_dic_list()) "
    }
   },
   "oldHeight": 121.26086950302124,
   "position": {
    "height": "246px",
    "left": "906.8614501953125px",
    "right": "21.01902198791504px",
    "top": "72.9891357421875px",
    "width": "533px"
   },
   "types_to_exclude": [
    "module",
    "function",
    "builtin_function_or_method",
    "instance",
    "_Feature"
   ],
   "varInspector_section_display": "block",
   "window_display": false
  }
 },
 "nbformat": 4,
 "nbformat_minor": 2
}
